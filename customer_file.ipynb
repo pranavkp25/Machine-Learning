{
 "cells": [
  {
   "cell_type": "code",
   "execution_count": 44,
   "metadata": {},
   "outputs": [],
   "source": [
    "import numpy as np\n",
    "import pandas as pd\n",
    "import matplotlib.pyplot as plt\n",
    "import seaborn as sns"
   ]
  },
  {
   "cell_type": "code",
   "execution_count": 45,
   "metadata": {},
   "outputs": [
    {
     "data": {
      "text/html": [
       "<div>\n",
       "<style scoped>\n",
       "    .dataframe tbody tr th:only-of-type {\n",
       "        vertical-align: middle;\n",
       "    }\n",
       "\n",
       "    .dataframe tbody tr th {\n",
       "        vertical-align: top;\n",
       "    }\n",
       "\n",
       "    .dataframe thead th {\n",
       "        text-align: right;\n",
       "    }\n",
       "</style>\n",
       "<table border=\"1\" class=\"dataframe\">\n",
       "  <thead>\n",
       "    <tr style=\"text-align: right;\">\n",
       "      <th></th>\n",
       "      <th>customer_id</th>\n",
       "      <th>Age</th>\n",
       "      <th>Churn</th>\n",
       "      <th>AnnualIncomeClass</th>\n",
       "      <th>ServicesOpted</th>\n",
       "      <th>AccountSyncedToSocialMedia</th>\n",
       "      <th>BookedHotelOrNot</th>\n",
       "      <th>FrequentFlyer</th>\n",
       "      <th>CustomerLoyaltyScore</th>\n",
       "      <th>Gender</th>\n",
       "    </tr>\n",
       "  </thead>\n",
       "  <tbody>\n",
       "    <tr>\n",
       "      <th>0</th>\n",
       "      <td>AIC1099</td>\n",
       "      <td>34</td>\n",
       "      <td>No</td>\n",
       "      <td>Middle Income</td>\n",
       "      <td>Exclusive Travel Package</td>\n",
       "      <td>No</td>\n",
       "      <td>Yes</td>\n",
       "      <td>No</td>\n",
       "      <td>0.0</td>\n",
       "      <td>NaN</td>\n",
       "    </tr>\n",
       "    <tr>\n",
       "      <th>1</th>\n",
       "      <td>AIC8182</td>\n",
       "      <td>34</td>\n",
       "      <td>Yes</td>\n",
       "      <td>Low Income</td>\n",
       "      <td>Ultimate Travel Package</td>\n",
       "      <td>Yes</td>\n",
       "      <td>No</td>\n",
       "      <td>Yes</td>\n",
       "      <td>5.0</td>\n",
       "      <td>Male</td>\n",
       "    </tr>\n",
       "    <tr>\n",
       "      <th>2</th>\n",
       "      <td>AIC4163</td>\n",
       "      <td>37</td>\n",
       "      <td>No</td>\n",
       "      <td>Middle Income</td>\n",
       "      <td>Premium Travel Package</td>\n",
       "      <td>Yes</td>\n",
       "      <td>No</td>\n",
       "      <td>No</td>\n",
       "      <td>0.0</td>\n",
       "      <td>Female</td>\n",
       "    </tr>\n",
       "    <tr>\n",
       "      <th>3</th>\n",
       "      <td>AIC7636</td>\n",
       "      <td>30</td>\n",
       "      <td>No</td>\n",
       "      <td>Middle Income</td>\n",
       "      <td>Standard Travel Package</td>\n",
       "      <td>No</td>\n",
       "      <td>No</td>\n",
       "      <td>No</td>\n",
       "      <td>0.0</td>\n",
       "      <td>Male</td>\n",
       "    </tr>\n",
       "    <tr>\n",
       "      <th>4</th>\n",
       "      <td>AIC7867</td>\n",
       "      <td>30</td>\n",
       "      <td>No</td>\n",
       "      <td>Low Income</td>\n",
       "      <td>Basic Travel Package</td>\n",
       "      <td>No</td>\n",
       "      <td>No</td>\n",
       "      <td>No</td>\n",
       "      <td>0.0</td>\n",
       "      <td>Female</td>\n",
       "    </tr>\n",
       "  </tbody>\n",
       "</table>\n",
       "</div>"
      ],
      "text/plain": [
       "  customer_id  Age Churn AnnualIncomeClass             ServicesOpted  \\\n",
       "0     AIC1099   34    No     Middle Income  Exclusive Travel Package   \n",
       "1     AIC8182   34   Yes        Low Income   Ultimate Travel Package   \n",
       "2     AIC4163   37    No     Middle Income    Premium Travel Package   \n",
       "3     AIC7636   30    No     Middle Income   Standard Travel Package   \n",
       "4     AIC7867   30    No        Low Income      Basic Travel Package   \n",
       "\n",
       "  AccountSyncedToSocialMedia BookedHotelOrNot FrequentFlyer  \\\n",
       "0                         No              Yes            No   \n",
       "1                        Yes               No           Yes   \n",
       "2                        Yes               No            No   \n",
       "3                         No               No            No   \n",
       "4                         No               No            No   \n",
       "\n",
       "   CustomerLoyaltyScore  Gender  \n",
       "0                   0.0     NaN  \n",
       "1                   5.0    Male  \n",
       "2                   0.0  Female  \n",
       "3                   0.0    Male  \n",
       "4                   0.0  Female  "
      ]
     },
     "execution_count": 45,
     "metadata": {},
     "output_type": "execute_result"
    }
   ],
   "source": [
    "df=pd.read_csv('C:/cea/PycharmProjects/EDA/ML/customer.csv')\n",
    "df.head()"
   ]
  },
  {
   "cell_type": "code",
   "execution_count": 46,
   "metadata": {},
   "outputs": [
    {
     "data": {
      "text/html": [
       "<div>\n",
       "<style scoped>\n",
       "    .dataframe tbody tr th:only-of-type {\n",
       "        vertical-align: middle;\n",
       "    }\n",
       "\n",
       "    .dataframe tbody tr th {\n",
       "        vertical-align: top;\n",
       "    }\n",
       "\n",
       "    .dataframe thead th {\n",
       "        text-align: right;\n",
       "    }\n",
       "</style>\n",
       "<table border=\"1\" class=\"dataframe\">\n",
       "  <thead>\n",
       "    <tr style=\"text-align: right;\">\n",
       "      <th></th>\n",
       "      <th>customer_id</th>\n",
       "      <th>Age</th>\n",
       "      <th>Churn</th>\n",
       "      <th>AnnualIncomeClass</th>\n",
       "      <th>ServicesOpted</th>\n",
       "      <th>AccountSyncedToSocialMedia</th>\n",
       "      <th>BookedHotelOrNot</th>\n",
       "      <th>FrequentFlyer</th>\n",
       "      <th>CustomerLoyaltyScore</th>\n",
       "      <th>Gender</th>\n",
       "    </tr>\n",
       "  </thead>\n",
       "  <tbody>\n",
       "    <tr>\n",
       "      <th>949</th>\n",
       "      <td>AIC9892</td>\n",
       "      <td>31</td>\n",
       "      <td>No</td>\n",
       "      <td>Low Income</td>\n",
       "      <td>Basic Travel Package</td>\n",
       "      <td>No</td>\n",
       "      <td>No</td>\n",
       "      <td>Yes</td>\n",
       "      <td>1.0</td>\n",
       "      <td>Female</td>\n",
       "    </tr>\n",
       "    <tr>\n",
       "      <th>950</th>\n",
       "      <td>AIC3539</td>\n",
       "      <td>30</td>\n",
       "      <td>No</td>\n",
       "      <td>Middle Income</td>\n",
       "      <td>Ultimate Travel Package</td>\n",
       "      <td>No</td>\n",
       "      <td>Yes</td>\n",
       "      <td>No</td>\n",
       "      <td>0.0</td>\n",
       "      <td>Male</td>\n",
       "    </tr>\n",
       "    <tr>\n",
       "      <th>951</th>\n",
       "      <td>AIC9595</td>\n",
       "      <td>37</td>\n",
       "      <td>No</td>\n",
       "      <td>Middle Income</td>\n",
       "      <td>Luxury Travel Package</td>\n",
       "      <td>No</td>\n",
       "      <td>No</td>\n",
       "      <td>No</td>\n",
       "      <td>0.0</td>\n",
       "      <td>Female</td>\n",
       "    </tr>\n",
       "    <tr>\n",
       "      <th>952</th>\n",
       "      <td>AIC0560</td>\n",
       "      <td>30</td>\n",
       "      <td>No</td>\n",
       "      <td>Low Income</td>\n",
       "      <td>Basic Travel Package</td>\n",
       "      <td>Yes</td>\n",
       "      <td>Yes</td>\n",
       "      <td>No</td>\n",
       "      <td>0.0</td>\n",
       "      <td>NaN</td>\n",
       "    </tr>\n",
       "    <tr>\n",
       "      <th>953</th>\n",
       "      <td>AIC4708</td>\n",
       "      <td>31</td>\n",
       "      <td>No</td>\n",
       "      <td>High Income</td>\n",
       "      <td>Basic Travel Package</td>\n",
       "      <td>No</td>\n",
       "      <td>No</td>\n",
       "      <td>Yes</td>\n",
       "      <td>1.0</td>\n",
       "      <td>Male</td>\n",
       "    </tr>\n",
       "  </tbody>\n",
       "</table>\n",
       "</div>"
      ],
      "text/plain": [
       "    customer_id  Age Churn AnnualIncomeClass            ServicesOpted  \\\n",
       "949     AIC9892   31    No        Low Income     Basic Travel Package   \n",
       "950     AIC3539   30    No     Middle Income  Ultimate Travel Package   \n",
       "951     AIC9595   37    No     Middle Income    Luxury Travel Package   \n",
       "952     AIC0560   30    No        Low Income     Basic Travel Package   \n",
       "953     AIC4708   31    No       High Income     Basic Travel Package   \n",
       "\n",
       "    AccountSyncedToSocialMedia BookedHotelOrNot FrequentFlyer  \\\n",
       "949                         No               No           Yes   \n",
       "950                         No              Yes            No   \n",
       "951                         No               No            No   \n",
       "952                        Yes              Yes            No   \n",
       "953                         No               No           Yes   \n",
       "\n",
       "     CustomerLoyaltyScore  Gender  \n",
       "949                   1.0  Female  \n",
       "950                   0.0    Male  \n",
       "951                   0.0  Female  \n",
       "952                   0.0     NaN  \n",
       "953                   1.0    Male  "
      ]
     },
     "execution_count": 46,
     "metadata": {},
     "output_type": "execute_result"
    }
   ],
   "source": [
    "df.tail()"
   ]
  },
  {
   "cell_type": "code",
   "execution_count": 47,
   "metadata": {},
   "outputs": [
    {
     "data": {
      "text/plain": [
       "customer_id                    object\n",
       "Age                             int64\n",
       "Churn                          object\n",
       "AnnualIncomeClass              object\n",
       "ServicesOpted                  object\n",
       "AccountSyncedToSocialMedia     object\n",
       "BookedHotelOrNot               object\n",
       "FrequentFlyer                  object\n",
       "CustomerLoyaltyScore          float64\n",
       "Gender                         object\n",
       "dtype: object"
      ]
     },
     "execution_count": 47,
     "metadata": {},
     "output_type": "execute_result"
    }
   ],
   "source": [
    "df.dtypes"
   ]
  },
  {
   "cell_type": "code",
   "execution_count": 48,
   "metadata": {},
   "outputs": [
    {
     "data": {
      "text/plain": [
       "customer_id                    0\n",
       "Age                            0\n",
       "Churn                          0\n",
       "AnnualIncomeClass              0\n",
       "ServicesOpted                  0\n",
       "AccountSyncedToSocialMedia     0\n",
       "BookedHotelOrNot               0\n",
       "FrequentFlyer                 60\n",
       "CustomerLoyaltyScore          60\n",
       "Gender                        47\n",
       "dtype: int64"
      ]
     },
     "execution_count": 48,
     "metadata": {},
     "output_type": "execute_result"
    }
   ],
   "source": [
    "df.isna().sum()"
   ]
  },
  {
   "cell_type": "code",
   "execution_count": 49,
   "metadata": {},
   "outputs": [
    {
     "data": {
      "text/plain": [
       "Churn\n",
       "No     730\n",
       "Yes    224\n",
       "Name: count, dtype: int64"
      ]
     },
     "execution_count": 49,
     "metadata": {},
     "output_type": "execute_result"
    }
   ],
   "source": [
    "df['Churn'].value_counts()"
   ]
  },
  {
   "cell_type": "code",
   "execution_count": 50,
   "metadata": {},
   "outputs": [],
   "source": [
    "# df.dropna(inplace=True,ignore_index=True)"
   ]
  },
  {
   "cell_type": "code",
   "execution_count": 51,
   "metadata": {},
   "outputs": [
    {
     "data": {
      "text/plain": [
       "customer_id                    0\n",
       "Age                            0\n",
       "Churn                          0\n",
       "AnnualIncomeClass              0\n",
       "ServicesOpted                  0\n",
       "AccountSyncedToSocialMedia     0\n",
       "BookedHotelOrNot               0\n",
       "FrequentFlyer                 60\n",
       "CustomerLoyaltyScore          60\n",
       "Gender                        47\n",
       "dtype: int64"
      ]
     },
     "execution_count": 51,
     "metadata": {},
     "output_type": "execute_result"
    }
   ],
   "source": [
    "df.isna().sum()"
   ]
  },
  {
   "cell_type": "code",
   "execution_count": 52,
   "metadata": {},
   "outputs": [
    {
     "data": {
      "text/plain": [
       "(954, 10)"
      ]
     },
     "execution_count": 52,
     "metadata": {},
     "output_type": "execute_result"
    }
   ],
   "source": [
    "df.shape"
   ]
  },
  {
   "cell_type": "code",
   "execution_count": 53,
   "metadata": {},
   "outputs": [
    {
     "data": {
      "text/plain": [
       "array(['No', 'Yes', nan], dtype=object)"
      ]
     },
     "execution_count": 53,
     "metadata": {},
     "output_type": "execute_result"
    }
   ],
   "source": [
    "df['FrequentFlyer'].unique()"
   ]
  },
  {
   "cell_type": "code",
   "execution_count": 54,
   "metadata": {},
   "outputs": [],
   "source": [
    "df['FrequentFlyer']=df['FrequentFlyer'].fillna(df['FrequentFlyer'].mode()[0])"
   ]
  },
  {
   "cell_type": "code",
   "execution_count": 55,
   "metadata": {},
   "outputs": [
    {
     "data": {
      "text/plain": [
       "array([nan, 'Male', 'Female'], dtype=object)"
      ]
     },
     "execution_count": 55,
     "metadata": {},
     "output_type": "execute_result"
    }
   ],
   "source": [
    "df['Gender'].unique()"
   ]
  },
  {
   "cell_type": "code",
   "execution_count": 56,
   "metadata": {},
   "outputs": [],
   "source": [
    "df['Gender']=df['Gender'].fillna(df['Gender'].mode()[0])"
   ]
  },
  {
   "cell_type": "code",
   "execution_count": 57,
   "metadata": {},
   "outputs": [
    {
     "data": {
      "text/plain": [
       "array([ 0.,  5.,  1., nan,  4.,  6.,  3.,  2.])"
      ]
     },
     "execution_count": 57,
     "metadata": {},
     "output_type": "execute_result"
    }
   ],
   "source": [
    "df['CustomerLoyaltyScore'].unique()"
   ]
  },
  {
   "cell_type": "code",
   "execution_count": 58,
   "metadata": {},
   "outputs": [],
   "source": [
    "df['CustomerLoyaltyScore']=df['CustomerLoyaltyScore'].fillna(df['CustomerLoyaltyScore'].mode())[0]"
   ]
  },
  {
   "cell_type": "code",
   "execution_count": 59,
   "metadata": {},
   "outputs": [],
   "source": [
    "df.drop('customer_id',axis=1,inplace=True)"
   ]
  },
  {
   "cell_type": "code",
   "execution_count": 60,
   "metadata": {},
   "outputs": [
    {
     "data": {
      "text/plain": [
       "Age                           0\n",
       "Churn                         0\n",
       "AnnualIncomeClass             0\n",
       "ServicesOpted                 0\n",
       "AccountSyncedToSocialMedia    0\n",
       "BookedHotelOrNot              0\n",
       "FrequentFlyer                 0\n",
       "CustomerLoyaltyScore          0\n",
       "Gender                        0\n",
       "dtype: int64"
      ]
     },
     "execution_count": 60,
     "metadata": {},
     "output_type": "execute_result"
    }
   ],
   "source": [
    "df.isna().sum()"
   ]
  },
  {
   "cell_type": "code",
   "execution_count": 61,
   "metadata": {},
   "outputs": [
    {
     "data": {
      "text/plain": [
       "['Churn',\n",
       " 'AnnualIncomeClass',\n",
       " 'ServicesOpted',\n",
       " 'AccountSyncedToSocialMedia',\n",
       " 'BookedHotelOrNot',\n",
       " 'FrequentFlyer',\n",
       " 'Gender']"
      ]
     },
     "execution_count": 61,
     "metadata": {},
     "output_type": "execute_result"
    }
   ],
   "source": [
    "obj=[i for i in df.columns if df[i].dtypes==object]\n",
    "obj"
   ]
  },
  {
   "cell_type": "code",
   "execution_count": 62,
   "metadata": {},
   "outputs": [
    {
     "data": {
      "image/png": "[encoded data removed]",
      "text/plain": [
       "<Figure size 640x480 with 1 Axes>"
      ]
     },
     "metadata": {},
     "output_type": "display_data"
    },
    {
     "data": {
      "image/png": "[encoded data removed]",
      "text/plain": [
       "<Figure size 640x480 with 1 Axes>"
      ]
     },
     "metadata": {},
     "output_type": "display_data"
    },
    {
     "data": {
      "image/png": "[encoded data removed]",
      "text/plain": [
       "<Figure size 640x480 with 1 Axes>"
      ]
     },
     "metadata": {},
     "output_type": "display_data"
    },
    {
     "data": {
      "image/png": "[encoded data removed]",
      "text/plain": [
       "<Figure size 640x480 with 1 Axes>"
      ]
     },
     "metadata": {},
     "output_type": "display_data"
    },
    {
     "data": {
      "image/png": "[encoded data removed]",
      "text/plain": [
       "<Figure size 640x480 with 1 Axes>"
      ]
     },
     "metadata": {},
     "output_type": "display_data"
    },
    {
     "data": {
      "image/png": "[encoded data removed]",
      "text/plain": [
       "<Figure size 640x480 with 1 Axes>"
      ]
     },
     "metadata": {},
     "output_type": "display_data"
    },
    {
     "data": {
      "image/png": "[encoded data removed]",
      "text/plain": [
       "<Figure size 640x480 with 1 Axes>"
      ]
     },
     "metadata": {},
     "output_type": "display_data"
    }
   ],
   "source": [
    "for i in obj:\n",
    "    sns.countplot(x=df[i])\n",
    "    plt.show()"
   ]
  },
  {
   "cell_type": "code",
   "execution_count": 63,
   "metadata": {},
   "outputs": [
    {
     "data": {
      "text/plain": [
       "['Age', 'CustomerLoyaltyScore']"
      ]
     },
     "execution_count": 63,
     "metadata": {},
     "output_type": "execute_result"
    }
   ],
   "source": [
    "num=[i for i in df.columns if i not in obj]\n",
    "num"
   ]
  },
  {
   "cell_type": "code",
   "execution_count": 65,
   "metadata": {},
   "outputs": [],
   "source": [
    "df1=pd.get_dummies(df[['AnnualIncomeClass','ServicesOpted','AccountSyncedToSocialMedia','BookedHotelOrNot','FrequentFlyer','Gender']],dtype=int,drop_first=True)"
   ]
  },
  {
   "cell_type": "code",
   "execution_count": 66,
   "metadata": {},
   "outputs": [],
   "source": [
    "df_final=pd.concat([df,df1],axis=1)"
   ]
  },
  {
   "cell_type": "code",
   "execution_count": 67,
   "metadata": {},
   "outputs": [
    {
     "data": {
      "text/plain": [
       "Index(['Age', 'Churn', 'AnnualIncomeClass', 'ServicesOpted',\n",
       "       'AccountSyncedToSocialMedia', 'BookedHotelOrNot', 'FrequentFlyer',\n",
       "       'CustomerLoyaltyScore', 'Gender', 'AnnualIncomeClass_Low Income',\n",
       "       'AnnualIncomeClass_Middle Income',\n",
       "       'ServicesOpted_Exclusive Travel Package',\n",
       "       'ServicesOpted_Luxury Travel Package',\n",
       "       'ServicesOpted_Premium Travel Package',\n",
       "       'ServicesOpted_Standard Travel Package',\n",
       "       'ServicesOpted_Ultimate Travel Package',\n",
       "       'AccountSyncedToSocialMedia_Yes', 'BookedHotelOrNot_Yes',\n",
       "       'FrequentFlyer_Yes', 'Gender_Male'],\n",
       "      dtype='object')"
      ]
     },
     "execution_count": 67,
     "metadata": {},
     "output_type": "execute_result"
    }
   ],
   "source": [
    "df_final.columns"
   ]
  },
  {
   "cell_type": "code",
   "execution_count": 68,
   "metadata": {},
   "outputs": [],
   "source": [
    "df_final.drop(['AnnualIncomeClass','ServicesOpted','AccountSyncedToSocialMedia','BookedHotelOrNot','FrequentFlyer','Gender'],axis=1,inplace=True)"
   ]
  },
  {
   "cell_type": "code",
   "execution_count": 69,
   "metadata": {},
   "outputs": [
    {
     "data": {
      "text/html": [
       "<div>\n",
       "<style scoped>\n",
       "    .dataframe tbody tr th:only-of-type {\n",
       "        vertical-align: middle;\n",
       "    }\n",
       "\n",
       "    .dataframe tbody tr th {\n",
       "        vertical-align: top;\n",
       "    }\n",
       "\n",
       "    .dataframe thead th {\n",
       "        text-align: right;\n",
       "    }\n",
       "</style>\n",
       "<table border=\"1\" class=\"dataframe\">\n",
       "  <thead>\n",
       "    <tr style=\"text-align: right;\">\n",
       "      <th></th>\n",
       "      <th>Age</th>\n",
       "      <th>Churn</th>\n",
       "      <th>CustomerLoyaltyScore</th>\n",
       "      <th>AnnualIncomeClass_Low Income</th>\n",
       "      <th>AnnualIncomeClass_Middle Income</th>\n",
       "      <th>ServicesOpted_Exclusive Travel Package</th>\n",
       "      <th>ServicesOpted_Luxury Travel Package</th>\n",
       "      <th>ServicesOpted_Premium Travel Package</th>\n",
       "      <th>ServicesOpted_Standard Travel Package</th>\n",
       "      <th>ServicesOpted_Ultimate Travel Package</th>\n",
       "      <th>AccountSyncedToSocialMedia_Yes</th>\n",
       "      <th>BookedHotelOrNot_Yes</th>\n",
       "      <th>FrequentFlyer_Yes</th>\n",
       "      <th>Gender_Male</th>\n",
       "    </tr>\n",
       "  </thead>\n",
       "  <tbody>\n",
       "    <tr>\n",
       "      <th>0</th>\n",
       "      <td>34</td>\n",
       "      <td>No</td>\n",
       "      <td>0.0</td>\n",
       "      <td>0</td>\n",
       "      <td>1</td>\n",
       "      <td>1</td>\n",
       "      <td>0</td>\n",
       "      <td>0</td>\n",
       "      <td>0</td>\n",
       "      <td>0</td>\n",
       "      <td>0</td>\n",
       "      <td>1</td>\n",
       "      <td>0</td>\n",
       "      <td>0</td>\n",
       "    </tr>\n",
       "    <tr>\n",
       "      <th>1</th>\n",
       "      <td>34</td>\n",
       "      <td>Yes</td>\n",
       "      <td>0.0</td>\n",
       "      <td>1</td>\n",
       "      <td>0</td>\n",
       "      <td>0</td>\n",
       "      <td>0</td>\n",
       "      <td>0</td>\n",
       "      <td>0</td>\n",
       "      <td>1</td>\n",
       "      <td>1</td>\n",
       "      <td>0</td>\n",
       "      <td>1</td>\n",
       "      <td>1</td>\n",
       "    </tr>\n",
       "    <tr>\n",
       "      <th>2</th>\n",
       "      <td>37</td>\n",
       "      <td>No</td>\n",
       "      <td>0.0</td>\n",
       "      <td>0</td>\n",
       "      <td>1</td>\n",
       "      <td>0</td>\n",
       "      <td>0</td>\n",
       "      <td>1</td>\n",
       "      <td>0</td>\n",
       "      <td>0</td>\n",
       "      <td>1</td>\n",
       "      <td>0</td>\n",
       "      <td>0</td>\n",
       "      <td>0</td>\n",
       "    </tr>\n",
       "    <tr>\n",
       "      <th>3</th>\n",
       "      <td>30</td>\n",
       "      <td>No</td>\n",
       "      <td>0.0</td>\n",
       "      <td>0</td>\n",
       "      <td>1</td>\n",
       "      <td>0</td>\n",
       "      <td>0</td>\n",
       "      <td>0</td>\n",
       "      <td>1</td>\n",
       "      <td>0</td>\n",
       "      <td>0</td>\n",
       "      <td>0</td>\n",
       "      <td>0</td>\n",
       "      <td>1</td>\n",
       "    </tr>\n",
       "    <tr>\n",
       "      <th>4</th>\n",
       "      <td>30</td>\n",
       "      <td>No</td>\n",
       "      <td>0.0</td>\n",
       "      <td>1</td>\n",
       "      <td>0</td>\n",
       "      <td>0</td>\n",
       "      <td>0</td>\n",
       "      <td>0</td>\n",
       "      <td>0</td>\n",
       "      <td>0</td>\n",
       "      <td>0</td>\n",
       "      <td>0</td>\n",
       "      <td>0</td>\n",
       "      <td>0</td>\n",
       "    </tr>\n",
       "  </tbody>\n",
       "</table>\n",
       "</div>"
      ],
      "text/plain": [
       "   Age Churn  CustomerLoyaltyScore  AnnualIncomeClass_Low Income  \\\n",
       "0   34    No                   0.0                             0   \n",
       "1   34   Yes                   0.0                             1   \n",
       "2   37    No                   0.0                             0   \n",
       "3   30    No                   0.0                             0   \n",
       "4   30    No                   0.0                             1   \n",
       "\n",
       "   AnnualIncomeClass_Middle Income  ServicesOpted_Exclusive Travel Package  \\\n",
       "0                                1                                       1   \n",
       "1                                0                                       0   \n",
       "2                                1                                       0   \n",
       "3                                1                                       0   \n",
       "4                                0                                       0   \n",
       "\n",
       "   ServicesOpted_Luxury Travel Package  ServicesOpted_Premium Travel Package  \\\n",
       "0                                    0                                     0   \n",
       "1                                    0                                     0   \n",
       "2                                    0                                     1   \n",
       "3                                    0                                     0   \n",
       "4                                    0                                     0   \n",
       "\n",
       "   ServicesOpted_Standard Travel Package  \\\n",
       "0                                      0   \n",
       "1                                      0   \n",
       "2                                      0   \n",
       "3                                      1   \n",
       "4                                      0   \n",
       "\n",
       "   ServicesOpted_Ultimate Travel Package  AccountSyncedToSocialMedia_Yes  \\\n",
       "0                                      0                               0   \n",
       "1                                      1                               1   \n",
       "2                                      0                               1   \n",
       "3                                      0                               0   \n",
       "4                                      0                               0   \n",
       "\n",
       "   BookedHotelOrNot_Yes  FrequentFlyer_Yes  Gender_Male  \n",
       "0                     1                  0            0  \n",
       "1                     0                  1            1  \n",
       "2                     0                  0            0  \n",
       "3                     0                  0            1  \n",
       "4                     0                  0            0  "
      ]
     },
     "execution_count": 69,
     "metadata": {},
     "output_type": "execute_result"
    }
   ],
   "source": [
    "df_final.head()"
   ]
  },
  {
   "cell_type": "code",
   "execution_count": 70,
   "metadata": {},
   "outputs": [
    {
     "data": {
      "text/plain": [
       "array([[34.,  0.,  0., ...,  1.,  0.,  0.],\n",
       "       [34.,  0.,  1., ...,  0.,  1.,  1.],\n",
       "       [37.,  0.,  0., ...,  0.,  0.,  0.],\n",
       "       ...,\n",
       "       [37.,  0.,  0., ...,  0.,  0.,  0.],\n",
       "       [30.,  0.,  1., ...,  1.,  0.,  0.],\n",
       "       [31.,  0.,  0., ...,  0.,  1.,  1.]])"
      ]
     },
     "execution_count": 70,
     "metadata": {},
     "output_type": "execute_result"
    }
   ],
   "source": [
    "x=df_final.drop(columns=['Churn']).values\n",
    "x"
   ]
  },
  {
   "cell_type": "code",
   "execution_count": 71,
   "metadata": {},
   "outputs": [],
   "source": [
    "y=df_final['Churn'].values"
   ]
  },
  {
   "cell_type": "code",
   "execution_count": 72,
   "metadata": {},
   "outputs": [],
   "source": [
    "from sklearn.model_selection import train_test_split\n",
    "x_train,x_test,y_train,y_test=train_test_split(x,y,test_size=.30,random_state=42)"
   ]
  },
  {
   "cell_type": "code",
   "execution_count": 73,
   "metadata": {},
   "outputs": [],
   "source": [
    "from sklearn.preprocessing import StandardScaler\n",
    "scaler=StandardScaler()\n",
    "scaler.fit(x_train)\n",
    "x_train=scaler.fit_transform(x_train)\n",
    "x_test=scaler.fit_transform(x_test)"
   ]
  },
  {
   "cell_type": "code",
   "execution_count": 79,
   "metadata": {},
   "outputs": [],
   "source": [
    "from sklearn.naive_bayes import BernoulliNB\n",
    "from sklearn.svm import SVC\n",
    "from sklearn.tree import DecisionTreeClassifier\n",
    "from sklearn.ensemble import RandomForestClassifier\n",
    "from sklearn.neighbors import KNeighborsClassifier\n",
    "from sklearn.metrics import accuracy_score,confusion_matrix,classification_report"
   ]
  },
  {
   "cell_type": "code",
   "execution_count": 80,
   "metadata": {},
   "outputs": [],
   "source": [
    "knn=KNeighborsClassifier(n_neighbors=7)\n",
    "nb=BernoulliNB()\n",
    "sv=SVC()\n",
    "dt=DecisionTreeClassifier()\n",
    "rf=RandomForestClassifier()\n",
    "models=[knn,nb,sv,dt,rf]"
   ]
  },
  {
   "cell_type": "code",
   "execution_count": 82,
   "metadata": {},
   "outputs": [
    {
     "name": "stdout",
     "output_type": "stream",
     "text": [
      "model is KNeighborsClassifier(n_neighbors=7)\n",
      "accuracy score is 0.8815331010452961\n",
      "classification_report is               precision    recall  f1-score   support\n",
      "\n",
      "          No       0.89      0.96      0.93       219\n",
      "         Yes       0.84      0.62      0.71        68\n",
      "\n",
      "    accuracy                           0.88       287\n",
      "   macro avg       0.87      0.79      0.82       287\n",
      "weighted avg       0.88      0.88      0.87       287\n",
      "\n",
      "**************************************************\n",
      "model is BernoulliNB()\n",
      "accuracy score is 0.7700348432055749\n",
      "classification_report is               precision    recall  f1-score   support\n",
      "\n",
      "          No       0.85      0.85      0.85       219\n",
      "         Yes       0.51      0.51      0.51        68\n",
      "\n",
      "    accuracy                           0.77       287\n",
      "   macro avg       0.68      0.68      0.68       287\n",
      "weighted avg       0.77      0.77      0.77       287\n",
      "\n",
      "**************************************************\n",
      "model is SVC()\n",
      "accuracy score is 0.8501742160278746\n",
      "classification_report is               precision    recall  f1-score   support\n",
      "\n",
      "          No       0.87      0.95      0.91       219\n",
      "         Yes       0.77      0.53      0.63        68\n",
      "\n",
      "    accuracy                           0.85       287\n",
      "   macro avg       0.82      0.74      0.77       287\n",
      "weighted avg       0.84      0.85      0.84       287\n",
      "\n",
      "**************************************************\n",
      "model is DecisionTreeClassifier()\n",
      "accuracy score is 0.9024390243902439\n",
      "classification_report is               precision    recall  f1-score   support\n",
      "\n",
      "          No       0.91      0.96      0.94       219\n",
      "         Yes       0.86      0.71      0.77        68\n",
      "\n",
      "    accuracy                           0.90       287\n",
      "   macro avg       0.89      0.83      0.86       287\n",
      "weighted avg       0.90      0.90      0.90       287\n",
      "\n",
      "**************************************************\n",
      "model is RandomForestClassifier()\n",
      "accuracy score is 0.9024390243902439\n",
      "classification_report is               precision    recall  f1-score   support\n",
      "\n",
      "          No       0.91      0.97      0.94       219\n",
      "         Yes       0.88      0.68      0.77        68\n",
      "\n",
      "    accuracy                           0.90       287\n",
      "   macro avg       0.90      0.82      0.85       287\n",
      "weighted avg       0.90      0.90      0.90       287\n",
      "\n",
      "**************************************************\n"
     ]
    }
   ],
   "source": [
    "\n",
    "for model in models:\n",
    "    model.fit(x_train,y_train)\n",
    "    y_pred=model.predict(x_test)\n",
    "    print(f\"model is {model}\")\n",
    "    print(f\"accuracy score is {accuracy_score(y_test,y_pred)}\")\n",
    "    print(f\"classification_report is {classification_report(y_test,y_pred)}\")\n",
    "    print(\"*\"*50)\n",
    "    "
   ]
  },
  {
   "cell_type": "code",
   "execution_count": 83,
   "metadata": {},
   "outputs": [
    {
     "data": {
      "text/plain": [
       "array([[213,   6],\n",
       "       [ 22,  46]])"
      ]
     },
     "execution_count": 83,
     "metadata": {},
     "output_type": "execute_result"
    }
   ],
   "source": [
    "matrix=confusion_matrix(y_test,y_pred)\n",
    "matrix"
   ]
  },
  {
   "cell_type": "code",
   "execution_count": null,
   "metadata": {},
   "outputs": [],
   "source": []
  }
 ],
 "metadata": {
  "kernelspec": {
   "display_name": "Python 3",
   "language": "python",
   "name": "python3"
  },
  "language_info": {
   "codemirror_mode": {
    "name": "ipython",
    "version": 3
   },
   "file_extension": ".py",
   "mimetype": "text/x-python",
   "name": "python",
   "nbconvert_exporter": "python",
   "pygments_lexer": "ipython3",
   "version": "3.12.3"
  }
 },
 "nbformat": 4,
 "nbformat_minor": 2
}
